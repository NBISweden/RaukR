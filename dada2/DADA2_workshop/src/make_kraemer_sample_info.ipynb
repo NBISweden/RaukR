{
 "cells": [
  {
   "cell_type": "code",
   "execution_count": 1,
   "metadata": {
    "collapsed": false
   },
   "outputs": [],
   "source": [
    "import pandas as pd"
   ]
  },
  {
   "cell_type": "markdown",
   "metadata": {},
   "source": [
    "# Merge SRA info with sample info from Kraemer et al"
   ]
  },
  {
   "cell_type": "code",
   "execution_count": 2,
   "metadata": {
    "collapsed": false
   },
   "outputs": [
    {
     "data": {
      "text/html": [
       "<div>\n",
       "<table border=\"1\" class=\"dataframe\">\n",
       "  <thead>\n",
       "    <tr style=\"text-align: right;\">\n",
       "      <th></th>\n",
       "      <th>date</th>\n",
       "      <th>Experiment</th>\n",
       "      <th>MBases</th>\n",
       "      <th>MBytes</th>\n",
       "      <th>organism</th>\n",
       "      <th>Run</th>\n",
       "      <th>SRA</th>\n",
       "      <th>Accession</th>\n",
       "    </tr>\n",
       "  </thead>\n",
       "  <tbody>\n",
       "    <tr>\n",
       "      <th>0</th>\n",
       "      <td>2017-06-30</td>\n",
       "      <td>ERX2079340</td>\n",
       "      <td>11</td>\n",
       "      <td>5</td>\n",
       "      <td>human metagenome</td>\n",
       "      <td>ERR2020093</td>\n",
       "      <td>ERS1803201</td>\n",
       "      <td>SAMEA104144183</td>\n",
       "    </tr>\n",
       "    <tr>\n",
       "      <th>1</th>\n",
       "      <td>2017-07-09</td>\n",
       "      <td>ERX2079341</td>\n",
       "      <td>29</td>\n",
       "      <td>13</td>\n",
       "      <td>human metagenome</td>\n",
       "      <td>ERR2020094</td>\n",
       "      <td>ERS1803202</td>\n",
       "      <td>SAMEA104144184</td>\n",
       "    </tr>\n",
       "    <tr>\n",
       "      <th>2</th>\n",
       "      <td>2017-06-30</td>\n",
       "      <td>ERX2079342</td>\n",
       "      <td>10</td>\n",
       "      <td>5</td>\n",
       "      <td>human metagenome</td>\n",
       "      <td>ERR2020095</td>\n",
       "      <td>ERS1803203</td>\n",
       "      <td>SAMEA104144185</td>\n",
       "    </tr>\n",
       "    <tr>\n",
       "      <th>3</th>\n",
       "      <td>2017-07-09</td>\n",
       "      <td>ERX2079343</td>\n",
       "      <td>14</td>\n",
       "      <td>6</td>\n",
       "      <td>human metagenome</td>\n",
       "      <td>ERR2020096</td>\n",
       "      <td>ERS1803204</td>\n",
       "      <td>SAMEA104144186</td>\n",
       "    </tr>\n",
       "    <tr>\n",
       "      <th>4</th>\n",
       "      <td>2017-07-03</td>\n",
       "      <td>ERX2079344</td>\n",
       "      <td>16</td>\n",
       "      <td>7</td>\n",
       "      <td>pig metagenome</td>\n",
       "      <td>ERR2020097</td>\n",
       "      <td>ERS1803205</td>\n",
       "      <td>SAMEA104144187</td>\n",
       "    </tr>\n",
       "  </tbody>\n",
       "</table>\n",
       "</div>"
      ],
      "text/plain": [
       "         date  Experiment  MBases  MBytes          organism         Run  \\\n",
       "0  2017-06-30  ERX2079340      11       5  human metagenome  ERR2020093   \n",
       "1  2017-07-09  ERX2079341      29      13  human metagenome  ERR2020094   \n",
       "2  2017-06-30  ERX2079342      10       5  human metagenome  ERR2020095   \n",
       "3  2017-07-09  ERX2079343      14       6  human metagenome  ERR2020096   \n",
       "4  2017-07-03  ERX2079344      16       7    pig metagenome  ERR2020097   \n",
       "\n",
       "          SRA       Accession  \n",
       "0  ERS1803201  SAMEA104144183  \n",
       "1  ERS1803202  SAMEA104144184  \n",
       "2  ERS1803203  SAMEA104144185  \n",
       "3  ERS1803204  SAMEA104144186  \n",
       "4  ERS1803205  SAMEA104144187  "
      ]
     },
     "execution_count": 2,
     "metadata": {},
     "output_type": "execute_result"
    }
   ],
   "source": [
    "sra_info = pd.read_table(\"../info/example_SRA_info.tsv\", header=0, comment=\"#\")\n",
    "sra_info.head()"
   ]
  },
  {
   "cell_type": "code",
   "execution_count": 3,
   "metadata": {
    "collapsed": false
   },
   "outputs": [
    {
     "data": {
      "text/html": [
       "<div>\n",
       "<table border=\"1\" class=\"dataframe\">\n",
       "  <thead>\n",
       "    <tr style=\"text-align: right;\">\n",
       "      <th></th>\n",
       "      <th>sample_alias</th>\n",
       "      <th>tax_id</th>\n",
       "      <th>scientific_name</th>\n",
       "      <th>sample_title</th>\n",
       "      <th>sample_description</th>\n",
       "      <th>location number</th>\n",
       "    </tr>\n",
       "  </thead>\n",
       "  <tbody>\n",
       "    <tr>\n",
       "      <th>0</th>\n",
       "      <td>10</td>\n",
       "      <td>1176744</td>\n",
       "      <td>pig metagenome</td>\n",
       "      <td>pig_1_1__</td>\n",
       "      <td>nasal swab from pig</td>\n",
       "      <td>1</td>\n",
       "    </tr>\n",
       "    <tr>\n",
       "      <th>1</th>\n",
       "      <td>103</td>\n",
       "      <td>646099</td>\n",
       "      <td>human metagenome</td>\n",
       "      <td>ne_40_0_left_ant</td>\n",
       "      <td>nasal swab from individual without contact to ...</td>\n",
       "      <td>40</td>\n",
       "    </tr>\n",
       "    <tr>\n",
       "      <th>2</th>\n",
       "      <td>105</td>\n",
       "      <td>646099</td>\n",
       "      <td>human metagenome</td>\n",
       "      <td>ne_40_0_left_post</td>\n",
       "      <td>nasal swab from individual without contact to ...</td>\n",
       "      <td>40</td>\n",
       "    </tr>\n",
       "    <tr>\n",
       "      <th>3</th>\n",
       "      <td>107</td>\n",
       "      <td>646099</td>\n",
       "      <td>human metagenome</td>\n",
       "      <td>ne_41_0_left_ant</td>\n",
       "      <td>nasal swab from individual without contact to ...</td>\n",
       "      <td>41</td>\n",
       "    </tr>\n",
       "    <tr>\n",
       "      <th>4</th>\n",
       "      <td>109</td>\n",
       "      <td>646099</td>\n",
       "      <td>human metagenome</td>\n",
       "      <td>ne_41_0_left_post</td>\n",
       "      <td>nasal swab from individual without contact to ...</td>\n",
       "      <td>41</td>\n",
       "    </tr>\n",
       "  </tbody>\n",
       "</table>\n",
       "</div>"
      ],
      "text/plain": [
       "   sample_alias   tax_id   scientific_name       sample_title  \\\n",
       "0            10  1176744    pig metagenome          pig_1_1__   \n",
       "1           103   646099  human metagenome   ne_40_0_left_ant   \n",
       "2           105   646099  human metagenome  ne_40_0_left_post   \n",
       "3           107   646099  human metagenome   ne_41_0_left_ant   \n",
       "4           109   646099  human metagenome  ne_41_0_left_post   \n",
       "\n",
       "                                  sample_description  location number  \n",
       "0                                nasal swab from pig                1  \n",
       "1  nasal swab from individual without contact to ...               40  \n",
       "2  nasal swab from individual without contact to ...               40  \n",
       "3  nasal swab from individual without contact to ...               41  \n",
       "4  nasal swab from individual without contact to ...               41  "
      ]
     },
     "execution_count": 3,
     "metadata": {},
     "output_type": "execute_result"
    }
   ],
   "source": [
    "sample_info = pd.read_table(\"../info/example_sample_info.tsv\", header=0, comment=\"#\")\n",
    "sample_info.head()"
   ]
  },
  {
   "cell_type": "code",
   "execution_count": 4,
   "metadata": {
    "collapsed": false
   },
   "outputs": [
    {
     "data": {
      "text/html": [
       "<div>\n",
       "<table border=\"1\" class=\"dataframe\">\n",
       "  <thead>\n",
       "    <tr style=\"text-align: right;\">\n",
       "      <th></th>\n",
       "      <th>sample_alias</th>\n",
       "      <th>SRA</th>\n",
       "    </tr>\n",
       "  </thead>\n",
       "  <tbody>\n",
       "    <tr>\n",
       "      <th>0</th>\n",
       "      <td>2</td>\n",
       "      <td>ERS1803236</td>\n",
       "    </tr>\n",
       "    <tr>\n",
       "      <th>1</th>\n",
       "      <td>4</td>\n",
       "      <td>ERS1803290</td>\n",
       "    </tr>\n",
       "    <tr>\n",
       "      <th>2</th>\n",
       "      <td>6</td>\n",
       "      <td>ERS1803355</td>\n",
       "    </tr>\n",
       "    <tr>\n",
       "      <th>3</th>\n",
       "      <td>8</td>\n",
       "      <td>ERS1803369</td>\n",
       "    </tr>\n",
       "    <tr>\n",
       "      <th>4</th>\n",
       "      <td>10</td>\n",
       "      <td>ERS1803200</td>\n",
       "    </tr>\n",
       "  </tbody>\n",
       "</table>\n",
       "</div>"
      ],
      "text/plain": [
       "   sample_alias         SRA\n",
       "0             2  ERS1803236\n",
       "1             4  ERS1803290\n",
       "2             6  ERS1803355\n",
       "3             8  ERS1803369\n",
       "4            10  ERS1803200"
      ]
     },
     "execution_count": 4,
     "metadata": {},
     "output_type": "execute_result"
    }
   ],
   "source": [
    "biosamples = {}\n",
    "with open(\"../info/example_biosample_info.txt\", 'r') as fh:\n",
    "    for line in fh:\n",
    "        line = line.rstrip()\n",
    "        if not line:\n",
    "            continue\n",
    "        if \".\" in line:\n",
    "            sample_alias = int(line.split(\".\")[1].lstrip().split(\" \")[0].rstrip(\";\"))\n",
    "        if \"Identifiers\" in line:\n",
    "            SRA = line.split(\":\")[-1].lstrip()\n",
    "            biosamples[sample_alias] = SRA\n",
    "biosamples = pd.DataFrame(biosamples, index=[0]).T\n",
    "biosamples.columns = [\"SRA\"]\n",
    "biosamples.index.name=\"sample_alias\"\n",
    "biosamples = biosamples.reset_index()\n",
    "biosamples.head()"
   ]
  },
  {
   "cell_type": "code",
   "execution_count": 5,
   "metadata": {
    "collapsed": false
   },
   "outputs": [],
   "source": [
    "df = pd.merge(sra_info,biosamples, left_on=\"SRA\", right_on=\"SRA\")\n",
    "df = pd.merge(df,sample_info, left_on=\"sample_alias\", right_on=\"sample_alias\")"
   ]
  },
  {
   "cell_type": "code",
   "execution_count": 6,
   "metadata": {
    "collapsed": false
   },
   "outputs": [],
   "source": [
    "sample_type = []\n",
    "sample_id = []\n",
    "sample_position = []\n",
    "\n",
    "for item in df.sample_title:\n",
    "    if \"air sample\" in item:\n",
    "        st = \"air\"\n",
    "        pos = item.split(\"_\")[1]\n",
    "        si = \"air\"\n",
    "        sample_pos = \"NA\"\n",
    "    elif \"pigf\" in item or \"cowf\" in item or \"ne\" in item:\n",
    "        st, pos, si = item.split(\"_\")[0:-2]\n",
    "        sample_pos = \"_\".join(item.split(\"_\")[-2:])\n",
    "    else:\n",
    "        st, pos, si = item.split(\"_\")[0:-2]\n",
    "        sample_pos = \"NA\"\n",
    "    individual = \"{}_{}\".format(pos,si)\n",
    "    sample_type.append(st)\n",
    "    sample_id.append(individual)\n",
    "    sample_position.append(sample_pos)"
   ]
  },
  {
   "cell_type": "code",
   "execution_count": 7,
   "metadata": {
    "collapsed": false
   },
   "outputs": [],
   "source": [
    "df = df.assign(sample_type=pd.Series(sample_type, index=df.index))\n",
    "df = df.assign(sample_id=pd.Series(sample_id, index=df.index))\n",
    "df = df.assign(sample_position=pd.Series(sample_position, index=df.index))"
   ]
  },
  {
   "cell_type": "code",
   "execution_count": 8,
   "metadata": {
    "collapsed": true
   },
   "outputs": [],
   "source": [
    "df.to_csv(\"../info/example_info.tsv\", sep=\"\\t\")"
   ]
  },
  {
   "cell_type": "markdown",
   "metadata": {},
   "source": [
    "Select a sample subset from pigfarms, cowfarms and negative controls"
   ]
  },
  {
   "cell_type": "code",
   "execution_count": 9,
   "metadata": {
    "collapsed": false
   },
   "outputs": [],
   "source": [
    "ne = df.loc[df.sample_type==\"ne\"]\n",
    "pigf = pd.concat([df.loc[df.sample_type.str.contains(\"pig\")],df.loc[df.sample_type.str.contains(\"air\")]])\n",
    "cowf = df.loc[df.sample_type.str.contains(\"cow\")]"
   ]
  },
  {
   "cell_type": "markdown",
   "metadata": {},
   "source": [
    "For the negative controls there is only one person sampled per location so choose the three individuals with the largest mean in library size."
   ]
  },
  {
   "cell_type": "code",
   "execution_count": 10,
   "metadata": {
    "collapsed": false
   },
   "outputs": [],
   "source": [
    "ne_ids = list(ne.groupby(\"sample_id\").mean().sort_values(\"MBases\",ascending=False).head(3).index)"
   ]
  },
  {
   "cell_type": "markdown",
   "metadata": {},
   "source": [
    "For the cow farms, get the mean library size per individual and location and get the three locations with highest per-individual mean size. Then select the individual with the largest mean from each of those sites."
   ]
  },
  {
   "cell_type": "code",
   "execution_count": 11,
   "metadata": {
    "collapsed": false
   },
   "outputs": [],
   "source": [
    "cow_ids = []\n",
    "individuals = []\n",
    "locations = []\n",
    "cowf_mean = cowf.groupby([\"sample_id\",\"location number\"]).mean().reset_index().sort_values(\"MBases\", ascending=False)\n",
    "for i in cowf_mean.index:\n",
    "    r = cowf_mean.loc[i]\n",
    "    location = r[\"location number\"]\n",
    "    individual = r[\"sample_id\"]\n",
    "    if not location in locations:\n",
    "        if len(locations)<3:\n",
    "            locations.append(location)\n",
    "for loc in locations:\n",
    "    r = cowf.loc[cowf[\"location number\"]==loc]\n",
    "    cow_ids.append(list(r.groupby(\"sample_id\").mean().sort_values(\"MBases\", ascending=False).head(1).index)[0])    "
   ]
  },
  {
   "cell_type": "markdown",
   "metadata": {},
   "source": [
    "From the pig farms, select the three locations with largest mean in library size"
   ]
  },
  {
   "cell_type": "code",
   "execution_count": 12,
   "metadata": {
    "collapsed": false
   },
   "outputs": [],
   "source": [
    "# First select locations that have air metagenomes\n",
    "pigf_locs = pigf.loc[pigf.sample_type==\"air\",\"location number\"].values\n",
    "# Get locations with highest mean library sizes\n",
    "pigf_locs_top = pigf.loc[pigf[\"location number\"].isin(pigf_locs)].groupby(\"location number\").mean().sort_values(\"MBases\",ascending=False).head(3).index\n",
    "# Iterate the locations and for each select 1) the pig with largest library, the human with largest library and the air metagenome\n",
    "pigf_index = []\n",
    "for loc in pigf_locs_top:\n",
    "    r = pigf.loc[pigf[\"location number\"]==loc]\n",
    "    # Select air metagenome\n",
    "    pigf_index.append(r.loc[r.sample_type==\"air\"].index[0])\n",
    "    # Select pig metagenome\n",
    "    pigf_index.append(r.loc[r.organism==\"pig metagenome\"].sort_values(\"MBases\", ascending=False).head(1).index[0])\n",
    "    # Select human metagenome with highest mean\n",
    "    human_sample_id = list(r.loc[r.organism==\"human metagenome\"].groupby(\"sample_id\").mean().sort_values(\"MBases\", ascending=False).head(1).index)[0]\n",
    "    pigf_index+=list(r.loc[r.sample_id==human_sample_id].index)"
   ]
  },
  {
   "cell_type": "code",
   "execution_count": 13,
   "metadata": {
    "collapsed": false
   },
   "outputs": [],
   "source": [
    "subset = pd.concat([pigf.loc[pigf_index],cowf.loc[cowf.sample_id.isin(cow_ids)]])\n",
    "subset = pd.concat([subset,ne.loc[ne.sample_id.isin(ne_ids)]])\n",
    "subset.to_csv(\"../info/example_subset_info.tsv\", sep=\"\\t\", index=False)"
   ]
  }
 ],
 "metadata": {
  "kernelspec": {
   "display_name": "Python 3",
   "language": "python",
   "name": "python3"
  },
  "language_info": {
   "codemirror_mode": {
    "name": "ipython",
    "version": 3
   },
   "file_extension": ".py",
   "mimetype": "text/x-python",
   "name": "python",
   "nbconvert_exporter": "python",
   "pygments_lexer": "ipython3",
   "version": "3.6.0"
  }
 },
 "nbformat": 4,
 "nbformat_minor": 2
}
